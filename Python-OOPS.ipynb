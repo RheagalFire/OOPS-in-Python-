{
 "cells": [
  {
   "cell_type": "markdown",
   "metadata": {},
   "source": [
    "## Access Specifiers in Python"
   ]
  },
  {
   "cell_type": "markdown",
   "metadata": {},
   "source": [
    "### Private and Protected Data Members in python"
   ]
  },
  {
   "cell_type": "code",
   "execution_count": 42,
   "metadata": {},
   "outputs": [],
   "source": [
    "class myclass():\n",
    "    __privat=9\n",
    "    _protec=10\n",
    "    def __init__(self,student_name,roll_no):\n",
    "            self.student_name=student_name\n",
    "            self.__roll_no=roll_no\n",
    "    def get_p_mem(self):\n",
    "        print(roll_no)"
   ]
  },
  {
   "cell_type": "code",
   "execution_count": 44,
   "metadata": {},
   "outputs": [
    {
     "name": "stdout",
     "output_type": "stream",
     "text": [
      "Arish\n",
      "10\n",
      "Accessing privat and Roll no will give an error\n"
     ]
    }
   ],
   "source": [
    "try:\n",
    "    c1=myclass('Arish',10)\n",
    "    #c1.get_p_mem()\n",
    "    print(c1.student_name)\n",
    "    print(c1._protec) ## protec will get printed\n",
    "    print(c1.__privat)\n",
    "    print(c1.__roll_no)\n",
    "except:\n",
    "    print('Accessing privat and Roll no will give an error')"
   ]
  },
  {
   "cell_type": "markdown",
   "metadata": {},
   "source": [
    "### Declaring Global Variable in python"
   ]
  },
  {
   "cell_type": "code",
   "execution_count": 172,
   "metadata": {},
   "outputs": [
    {
     "name": "stdout",
     "output_type": "stream",
     "text": [
      "1\n",
      "None\n",
      "2\n",
      "None\n",
      "3\n",
      "None\n"
     ]
    }
   ],
   "source": [
    "class InstanceCounter(object):\n",
    "    count = 0\n",
    "\n",
    "    def __init__(self, val):\n",
    "        self.val = val\n",
    "        InstanceCounter.count += 1\n",
    "\n",
    "    def set_val(self, newval):\n",
    "        self.val = newval\n",
    "\n",
    "    def get_val(self):\n",
    "        print(self.val)\n",
    "\n",
    "    def get_count(self):\n",
    "        print(InstanceCounter.count)\n",
    "\n",
    "a = InstanceCounter(5)\n",
    "print(a.get_count())\n",
    "b = InstanceCounter(10)\n",
    "print(a.get_count())\n",
    "c = InstanceCounter(15)\n",
    "print(a.get_count())"
   ]
  },
  {
   "cell_type": "markdown",
   "metadata": {},
   "source": [
    "## Enumeration in python"
   ]
  },
  {
   "cell_type": "code",
   "execution_count": 44,
   "metadata": {},
   "outputs": [
    {
     "name": "stdout",
     "output_type": "stream",
     "text": [
      "Today is Monday\n",
      "Wake up at 7am\n",
      "\n",
      "Today is Tuesday\n",
      "Wake up at 7am\n",
      "\n",
      "Today is Wednesday\n",
      "Wake up at 7am\n",
      "\n",
      "Today is Thursday\n",
      "Wake up at 7am\n",
      "\n",
      "Today is Friday\n",
      "Wake up at 7am\n",
      "\n",
      "Today is Saturday\n",
      "Wake up at 9am\n",
      "\n",
      "Today is Sunday\n",
      "Wake up at 9am\n",
      "\n"
     ]
    }
   ],
   "source": [
    "from enum import Enum\n",
    "\n",
    "\n",
    "class Weekday(Enum):\n",
    "    MONDAY = 1\n",
    "    TUESDAY = 2\n",
    "    WEDNESDAY = 3\n",
    "    THURSDAY = 4\n",
    "    FRIDAY = 5\n",
    "    SATURDAY = 6\n",
    "    SUNDAY = 7\n",
    "\n",
    "\n",
    "weekdays = (Weekday.MONDAY, Weekday.TUESDAY, Weekday.WEDNESDAY, Weekday.THURSDAY, Weekday.FRIDAY)\n",
    "weekends = (Weekday.SATURDAY, Weekday.SUNDAY)\n",
    "\n",
    "weekday_wake_up = \"7am\"\n",
    "weekend_wake_up = \"9am\"\n",
    "\n",
    "for day in Weekday:\n",
    "    print(f'Today is {day.name.capitalize()}')\n",
    "    wake_time = weekday_wake_up if day in weekdays else weekend_wake_up\n",
    "    print(f'Wake up at {wake_time}\\n')"
   ]
  },
  {
   "cell_type": "markdown",
   "metadata": {},
   "source": [
    "## Inheritence"
   ]
  },
  {
   "cell_type": "code",
   "execution_count": 66,
   "metadata": {},
   "outputs": [],
   "source": [
    "import datetime\n",
    "    \n",
    "class Date():\n",
    "    time='10am'\n",
    "    def get_date(self):\n",
    "        self.date=datetime.datetime.now()\n",
    "        print((self.date))\n",
    "class time(Date):\n",
    "    pass"
   ]
  },
  {
   "cell_type": "code",
   "execution_count": 69,
   "metadata": {},
   "outputs": [
    {
     "name": "stdout",
     "output_type": "stream",
     "text": [
      "10am\n",
      "2021-02-03 21:31:25.991447\n"
     ]
    }
   ],
   "source": [
    "tm=time()\n",
    "print(tm.time)\n",
    "tm.get_date()"
   ]
  },
  {
   "cell_type": "code",
   "execution_count": 70,
   "metadata": {},
   "outputs": [
    {
     "name": "stdout",
     "output_type": "stream",
     "text": [
      "Roger goes after the paper\n",
      "Roger is eating dog food\n",
      "--------\n",
      "Fluffy is eating cat food\n",
      "Fluffy shred the string!\n"
     ]
    }
   ],
   "source": [
    "class Animal(object):\n",
    "    def __init__(self, name):\n",
    "        self.name = name\n",
    "\n",
    "    def eat(self, food):\n",
    "        print(\"%s is eating %s\" % (self.name, food))\n",
    "\n",
    "class Dog(Animal):\n",
    "    def fetch(self, thing):\n",
    "        print(\"%s goes after the %s\" % (self.name, thing))\n",
    "\n",
    "class Cat(Animal):\n",
    "    def swatstring(self):\n",
    "        print(\"%s shred the string!\" % self.name)\n",
    "\n",
    "d = Dog(\"Roger\")\n",
    "c = Cat(\"Fluffy\")\n",
    "\n",
    "d.fetch(\"paper\")\n",
    "d.eat(\"dog food\")\n",
    "print(\"--------\")\n",
    "c.eat(\"cat food\")\n",
    "c.swatstring()\n",
    "\n",
    "# The below methods would fail, since the instances doesn't have\n",
    "# have access to the other class.\n",
    "\n",
    "#c.fetch(\"frizbee\")\n",
    "#d.swatstring()"
   ]
  },
  {
   "cell_type": "markdown",
   "metadata": {},
   "source": [
    "## Polymorphism "
   ]
  },
  {
   "cell_type": "markdown",
   "metadata": {},
   "source": [
    "Polymorphism means having the same interface/attributes in different classes.\n",
    "Polymorphism is the characteristic of being able to assign\n",
    "a different meaning or usage in different contexts.\n",
    "A not-so-clear/clean example is, different classes can have\n",
    "the same function name."
   ]
  },
  {
   "cell_type": "code",
   "execution_count": 71,
   "metadata": {},
   "outputs": [
    {
     "name": "stdout",
     "output_type": "stream",
     "text": [
      "Rover wags tail\n",
      "Fluffy purrs\n",
      "Lucky purrs\n",
      "Scout wags tail\n"
     ]
    }
   ],
   "source": [
    "class Animal(object):\n",
    "\n",
    "    def __init__(self, name):\n",
    "        self.name = name\n",
    "\n",
    "    def eat(self, food):\n",
    "        print('{0} eats {1}'.format(self.name, food))\n",
    "\n",
    "\n",
    "class Dog(Animal):\n",
    "\n",
    "    def fetch(self, thing):\n",
    "        print('{0} goes after the {1}!'.format(self.name, thing))\n",
    "\n",
    "    def show_affection(self):\n",
    "        print('{0} wags tail'.format(self.name))\n",
    "\n",
    "\n",
    "class Cat(Animal):\n",
    "\n",
    "    def swatstring(self):\n",
    "        print('{0} shreds more string'.format(self.name))\n",
    "\n",
    "    def show_affection(self):\n",
    "        print('{0} purrs'.format(self.name))\n",
    "\n",
    "for a in (Dog('Rover'), Cat('Fluffy'), Cat('Lucky'), Dog('Scout')):\n",
    "    a.show_affection()"
   ]
  },
  {
   "cell_type": "markdown",
   "metadata": {},
   "source": [
    "## Multiple Inheritance"
   ]
  },
  {
   "cell_type": "code",
   "execution_count": 137,
   "metadata": {},
   "outputs": [],
   "source": [
    "class School(object):\n",
    "    def __init__(self,name):\n",
    "        self.name=name\n",
    "class section(object):\n",
    "    def get_some_section(self,section):\n",
    "        self.section=section\n",
    "class standard_class(School, section):\n",
    "    def get_info(self):\n",
    "        print('{0},{1},{2}'.format(self.name,self.section,'A'))"
   ]
  },
  {
   "cell_type": "code",
   "execution_count": 138,
   "metadata": {},
   "outputs": [],
   "source": [
    "obj1=standard_class('St.francis')"
   ]
  },
  {
   "cell_type": "code",
   "execution_count": 139,
   "metadata": {},
   "outputs": [],
   "source": [
    "obj1.get_some_section('A')"
   ]
  },
  {
   "cell_type": "code",
   "execution_count": 140,
   "metadata": {},
   "outputs": [
    {
     "name": "stdout",
     "output_type": "stream",
     "text": [
      "St.francis,A,A\n"
     ]
    }
   ],
   "source": [
    "obj1.get_info()"
   ]
  },
  {
   "cell_type": "code",
   "execution_count": 141,
   "metadata": {},
   "outputs": [
    {
     "name": "stdout",
     "output_type": "stream",
     "text": [
      "[<class '__main__.standard_class'>, <class '__main__.School'>, <class '__main__.section'>, <class 'object'>]\n"
     ]
    }
   ],
   "source": [
    "print(standard_class.mro())"
   ]
  },
  {
   "cell_type": "markdown",
   "metadata": {},
   "source": [
    "## Instance Methods"
   ]
  },
  {
   "cell_type": "markdown",
   "metadata": {},
   "source": [
    "Instance methods are also known as Bound methods since the methods\n",
    " within a class are bound to the instance created from the class, via\n",
    " 'self'\n",
    " If a function is an attribute of class and it is accessed via the instances, they are called bound methods. A bound method is one that has ‘self‘ as its first argument. Since these are dependent on the instance of classes, these are also known as instance methods."
   ]
  },
  {
   "cell_type": "markdown",
   "metadata": {},
   "source": [
    "## Decorators"
   ]
  },
  {
   "cell_type": "markdown",
   "metadata": {},
   "source": [
    " Decorators are functions that compliment other functions,\n",
    " or in other words, modify a function or method."
   ]
  },
  {
   "cell_type": "code",
   "execution_count": 143,
   "metadata": {},
   "outputs": [
    {
     "name": "stdout",
     "output_type": "stream",
     "text": [
      "Sweet_16\n",
      "Sweet_17\n",
      "Sweet_18\n"
     ]
    }
   ],
   "source": [
    "def sweet_18(my_func):\n",
    "    def sweet_16():\n",
    "        print('Sweet_16')\n",
    "        my_func()\n",
    "        print('Sweet_18')\n",
    "    return sweet_16\n",
    "@sweet_18\n",
    "def sweet_17():\n",
    "    print('Sweet_17')\n",
    "\n",
    "sweet_17()"
   ]
  },
  {
   "cell_type": "code",
   "execution_count": 164,
   "metadata": {},
   "outputs": [
    {
     "name": "stdout",
     "output_type": "stream",
     "text": [
      "1.5\n",
      "Exception ocuured!\n"
     ]
    }
   ],
   "source": [
    "def lets_divide(some_fun):\n",
    "    def the_main(*args,**kwargs):\n",
    "        try:\n",
    "            return some_fun(*args,*kwargs)\n",
    "        except Exception:\n",
    "            print('Exception ocuured!')\n",
    "    return the_main\n",
    "@lets_divide\n",
    "def handle_exp(x,y):\n",
    "    num=x/y\n",
    "    print(num)\n",
    "    \n",
    "handle_exp(6,4)\n",
    "handle_exp(1,0)"
   ]
  },
  {
   "cell_type": "code",
   "execution_count": 178,
   "metadata": {},
   "outputs": [
    {
     "name": "stdout",
     "output_type": "stream",
     "text": [
      "2.0\n",
      "St. Francis\n"
     ]
    },
    {
     "data": {
      "text/plain": [
       "'Static method called!'"
      ]
     },
     "execution_count": 178,
     "metadata": {},
     "output_type": "execute_result"
    }
   ],
   "source": [
    "class students:\n",
    "    school='St. Francis' ## class variable --- ---- ---- static method --- -- -- --- --\n",
    "    def __init__(self,m1,m2,m3):\n",
    "        self.m1=m1 ##instance varidables\n",
    "        self.m2=m2\n",
    "        self.m3=m3\n",
    "    def average_m(self):\n",
    "        return (self.m1+self.m2+self.m3)/3\n",
    "    @classmethod\n",
    "    def info(cls):\n",
    "        return cls.school\n",
    "    @staticmethod\n",
    "    def get_int():\n",
    "        return 'Static method called!'\n",
    "s1=students(1,2,3)\n",
    "s2=students(4,5,6)\n",
    "\n",
    "print(s1.average_m())\n",
    "print(students.info())\n",
    "students.get_int()"
   ]
  },
  {
   "cell_type": "markdown",
   "metadata": {},
   "source": [
    "# Class inside a class"
   ]
  },
  {
   "cell_type": "code",
   "execution_count": 187,
   "metadata": {},
   "outputs": [],
   "source": [
    "class student:\n",
    "    def __init__(self,name):\n",
    "        self.name=name\n",
    "        self.laptop=self.laptop()\n",
    "    class laptop:\n",
    "        def __init__(self):\n",
    "            self.brand='HP'"
   ]
  },
  {
   "cell_type": "code",
   "execution_count": 188,
   "metadata": {},
   "outputs": [],
   "source": [
    "s1=student('Arish')\n",
    "lap1=s1.laptop"
   ]
  },
  {
   "cell_type": "code",
   "execution_count": 191,
   "metadata": {},
   "outputs": [
    {
     "name": "stdout",
     "output_type": "stream",
     "text": [
      "2858266576208\n"
     ]
    }
   ],
   "source": [
    "print(id(lap1))"
   ]
  },
  {
   "cell_type": "markdown",
   "metadata": {},
   "source": [
    "## Method Resolution Order"
   ]
  },
  {
   "cell_type": "markdown",
   "metadata": {},
   "source": [
    "Method Resolution Order(MRO) it denotes the way a programming language resolves a method or attribute. Python supports classes inheriting from other classes. The class being inherited is called the Parent or Superclass, while the class that inherits is called the Child or Subclass. In python, method resolution order defines the order in which the base classes are searched when executing a method. First, the method or attribute is searched within a class and then it follows the order we specified while inheriting. This order is also called Linearization of a class and set of rules are called MRO(Method Resolution Order). While inheriting from another class, the interpreter needs a way to resolve the methods that are being called via an instance. Thus we need the method resolution order."
   ]
  },
  {
   "cell_type": "code",
   "execution_count": 2,
   "metadata": {},
   "outputs": [
    {
     "name": "stdout",
     "output_type": "stream",
     "text": [
      "This is D\n"
     ]
    },
    {
     "data": {
      "text/plain": [
       "<__main__.D at 0x1fc695d2430>"
      ]
     },
     "execution_count": 2,
     "metadata": {},
     "output_type": "execute_result"
    }
   ],
   "source": [
    "class A:\n",
    "    def __init__(self):\n",
    "        print('This is A')\n",
    "class B(A):\n",
    "    def __init__(self):\n",
    "        print('This is B')\n",
    "class C():\n",
    "    def __init__(self):\n",
    "        print('This is C')\n",
    "class D(B,C):\n",
    "    def __init__(self):\n",
    "        print('This is D')\n",
    "D()"
   ]
  },
  {
   "cell_type": "markdown",
   "metadata": {},
   "source": [
    "Lets omit out the constructor of D"
   ]
  },
  {
   "cell_type": "code",
   "execution_count": 8,
   "metadata": {},
   "outputs": [
    {
     "name": "stdout",
     "output_type": "stream",
     "text": [
      "This is B\n"
     ]
    },
    {
     "data": {
      "text/plain": [
       "<__main__.D at 0x1fc695f1340>"
      ]
     },
     "execution_count": 8,
     "metadata": {},
     "output_type": "execute_result"
    }
   ],
   "source": [
    "class A:\n",
    "    def __init__(self):\n",
    "        print('This is A')\n",
    "class B(A):\n",
    "    def __init__(self):\n",
    "        print('This is B')\n",
    "class C():\n",
    "    def __init__(self):\n",
    "        print('This is C')\n",
    "class D(B,C):\n",
    "    pass\n",
    "    #def __init__(self):\n",
    "        #print('This is D')\n",
    "        \n",
    "        \n",
    "D()"
   ]
  },
  {
   "cell_type": "markdown",
   "metadata": {},
   "source": [
    "Got **B** here , nothing surprising here as it is inheriting from B.\n"
   ]
  },
  {
   "cell_type": "markdown",
   "metadata": {},
   "source": [
    "Now lets omit the constructor of B"
   ]
  },
  {
   "cell_type": "code",
   "execution_count": 9,
   "metadata": {},
   "outputs": [
    {
     "name": "stdout",
     "output_type": "stream",
     "text": [
      "This is A\n"
     ]
    },
    {
     "data": {
      "text/plain": [
       "<__main__.D at 0x1fc695f1310>"
      ]
     },
     "execution_count": 9,
     "metadata": {},
     "output_type": "execute_result"
    }
   ],
   "source": [
    "class A:\n",
    "    def __init__(self):\n",
    "        print('This is A')\n",
    "class B(A):\n",
    "    pass\n",
    "    #def __init__(self):\n",
    "        #print('This is B')\n",
    "class C():\n",
    "    def __init__(self):\n",
    "        print('This is C')\n",
    "class D(B,C):\n",
    "    pass\n",
    "    #def __init__(self):\n",
    "        #print('This is D')\n",
    "        \n",
    "        \n",
    "D()"
   ]
  },
  {
   "cell_type": "markdown",
   "metadata": {},
   "source": [
    "Many think that it should go back to its other parent **C** but there is where they are wrong because MRO order checks in the order \\\n",
    "parent 1 --> primary parent of parent 1 --> secondary parent of parent 1 \\\n",
    "parent 2 --> primary parent of parent 2---> ... .. ...... \\ \n",
    "well now if anyone comments out constructor of **A** C would be called."
   ]
  },
  {
   "cell_type": "markdown",
   "metadata": {},
   "source": [
    "## Super Method For calling the constructor of Parent Class"
   ]
  },
  {
   "cell_type": "markdown",
   "metadata": {},
   "source": [
    "To represent the **Super Class** we use Super Method."
   ]
  },
  {
   "cell_type": "code",
   "execution_count": 1,
   "metadata": {},
   "outputs": [
    {
     "name": "stdout",
     "output_type": "stream",
     "text": [
      "A is called\n",
      "C is called\n"
     ]
    }
   ],
   "source": [
    "class A:\n",
    "    def __init__(self):\n",
    "        print('A is called')\n",
    "class B:\n",
    "    def __init__(self):\n",
    "        print('B is called')\n",
    "class C(A,B):\n",
    "    def __init__(self):\n",
    "        super().__init__()\n",
    "        print('C is called')\n",
    "obj1=C()"
   ]
  },
  {
   "cell_type": "markdown",
   "metadata": {},
   "source": [
    "## Deep Dive into Polymorphism"
   ]
  },
  {
   "cell_type": "markdown",
   "metadata": {},
   "source": [
    "### 1. Duck Typing"
   ]
  },
  {
   "cell_type": "code",
   "execution_count": 14,
   "metadata": {},
   "outputs": [
    {
     "name": "stdout",
     "output_type": "stream",
     "text": [
      "Compiling in 1\n"
     ]
    }
   ],
   "source": [
    "class Spyder:\n",
    "    def execute(self):\n",
    "        print('Compiling in 1')\n",
    "class Jupyter:\n",
    "    def execute(self):\n",
    "        print('Compiling in 2')\n",
    "class laptop:\n",
    "    def code(self,ide):\n",
    "        ide.execute() \n",
    "ide = Spyder()\n",
    "lap1=laptop()\n",
    "lap1.code(ide)"
   ]
  },
  {
   "cell_type": "markdown",
   "metadata": {},
   "source": [
    "### 2. Operator Overloading"
   ]
  },
  {
   "cell_type": "code",
   "execution_count": 17,
   "metadata": {},
   "outputs": [
    {
     "name": "stdout",
     "output_type": "stream",
     "text": [
      "5\n"
     ]
    },
    {
     "data": {
      "text/plain": [
       "5"
      ]
     },
     "execution_count": 17,
     "metadata": {},
     "output_type": "execute_result"
    }
   ],
   "source": [
    "a=2\n",
    "b=3\n",
    "print(a+b)\n",
    "int.__add__(a,b) ## behind the scene "
   ]
  },
  {
   "cell_type": "code",
   "execution_count": 32,
   "metadata": {},
   "outputs": [
    {
     "name": "stdout",
     "output_type": "stream",
     "text": [
      "40  60\n",
      "10 20\n"
     ]
    }
   ],
   "source": [
    "class student:\n",
    "    def __init__(self,m1,m2):\n",
    "        self.m1=m1\n",
    "        self.m2=m2\n",
    "    def __add__(self,other):\n",
    "        m1=self.m1+other.m1\n",
    "        m2=self.m2+other.m2\n",
    "        s3=student(m1,m2)\n",
    "        return s3\n",
    "    def __str__(self):\n",
    "        return '{} {}'.format(self.m1,self.m2)\n",
    "\n",
    "s1=student(10,20)\n",
    "s2=student(30,40)\n",
    "s3=s1+s2\n",
    "print(s3.m1,' ' ,end='')\n",
    "print(s3.m2)\n",
    "print(s1) # if you don't define the __str__ the adress of your class gets printed "
   ]
  },
  {
   "cell_type": "markdown",
   "metadata": {},
   "source": [
    "What we did above was we overrided the method __str__ so that it returns us the value of instances instead of an address. Point to note is that by default __str__ is passed in every custom class you make"
   ]
  },
  {
   "attachments": {
    "image.png": {
     "image/png": "[encoded data removed]"
    }
   },
   "cell_type": "markdown",
   "metadata": {},
   "source": [
    "![image_un.png](attachment:image.png)"
   ]
  },
  {
   "cell_type": "markdown",
   "metadata": {},
   "source": [
    "### 3. Method Overriding"
   ]
  },
  {
   "cell_type": "markdown",
   "metadata": {},
   "source": [
    "When a class have its own method it takes on it's own method rather than  inheriting it from its parent ,that is overriding. "
   ]
  },
  {
   "cell_type": "code",
   "execution_count": 34,
   "metadata": {},
   "outputs": [
    {
     "name": "stdout",
     "output_type": "stream",
     "text": [
      "show of parent\n"
     ]
    }
   ],
   "source": [
    "class parent:\n",
    "    def show(self):\n",
    "        print('show of parent')\n",
    "class child(parent):\n",
    "    pass\n",
    "    #def show(self):\n",
    "        #print('show of child')\n",
    "\n",
    "one_in_million=child()\n",
    "one_in_million.show()"
   ]
  },
  {
   "cell_type": "code",
   "execution_count": 33,
   "metadata": {},
   "outputs": [
    {
     "name": "stdout",
     "output_type": "stream",
     "text": [
      "show of child\n"
     ]
    }
   ],
   "source": [
    "class parent:\n",
    "    def show(self):\n",
    "        print('show of parent')\n",
    "class child(parent):\n",
    "    def show(self):\n",
    "        print('show of child')\n",
    "\n",
    "one_in_million=child()\n",
    "one_in_million.show()"
   ]
  },
  {
   "cell_type": "markdown",
   "metadata": {},
   "source": [
    "### 4. Decorators For Code Reduction"
   ]
  },
  {
   "cell_type": "code",
   "execution_count": 8,
   "metadata": {},
   "outputs": [
    {
     "name": "stdout",
     "output_type": "stream",
     "text": [
      "called through function:call_me_twice with value:[ 1  4  9 16] , execution time 0.0\n",
      "called through function:call_me_thrice with value:1 , execution time 0.0\n"
     ]
    },
    {
     "data": {
      "text/plain": [
       "1"
      ]
     },
     "execution_count": 8,
     "metadata": {},
     "output_type": "execute_result"
    }
   ],
   "source": [
    "import time\n",
    "def time_time(func):\n",
    "    def wrapper(*args,**kwargs):\n",
    "        start=time.time()\n",
    "        value=func(*args,*kwargs)\n",
    "        end=time.time()\n",
    "        print('called through function:{0} with value:{1} , execution time {2}'.format(func.__name__,value,end-start))\n",
    "        return value\n",
    "    return wrapper\n",
    "@time_time\n",
    "def call_me_twice(x):\n",
    "    return (np.square(x))\n",
    "@time_time\n",
    "def call_me_thrice(x):\n",
    "    return(x*x*x)\n",
    "\n",
    "call_me_twice([1,2,3,4])\n",
    "call_me_thrice(1)"
   ]
  },
  {
   "cell_type": "code",
   "execution_count": 7,
   "metadata": {},
   "outputs": [
    {
     "data": {
      "text/plain": [
       "array([ 1,  4,  9, 16], dtype=int32)"
      ]
     },
     "execution_count": 7,
     "metadata": {},
     "output_type": "execute_result"
    }
   ],
   "source": [
    "import numpy as np\n",
    "np.square([1,2,3,4])"
   ]
  },
  {
   "cell_type": "code",
   "execution_count": null,
   "metadata": {},
   "outputs": [],
   "source": []
  }
 ],
 "metadata": {
  "kernelspec": {
   "display_name": "Python 3",
   "language": "python",
   "name": "python3"
  },
  "language_info": {
   "codemirror_mode": {
    "name": "ipython",
    "version": 3
   },
   "file_extension": ".py",
   "mimetype": "text/x-python",
   "name": "python",
   "nbconvert_exporter": "python",
   "pygments_lexer": "ipython3",
   "version": "3.8.0"
  }
 },
 "nbformat": 4,
 "nbformat_minor": 4
}
